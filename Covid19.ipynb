{
 "cells": [
  {
   "cell_type": "code",
   "execution_count": 31,
   "id": "e3d396ff-cf2e-4c63-bc5d-32a361c71eaa",
   "metadata": {
    "tags": []
   },
   "outputs": [],
   "source": [
    "import pandas as pd"
   ]
  },
  {
   "cell_type": "code",
   "execution_count": 32,
   "id": "a3230bdf-f7f7-4c9c-99cd-fc49ae8b3e8d",
   "metadata": {
    "tags": []
   },
   "outputs": [
    {
     "data": {
      "text/html": [
       "<div>\n",
       "<style scoped>\n",
       "    .dataframe tbody tr th:only-of-type {\n",
       "        vertical-align: middle;\n",
       "    }\n",
       "\n",
       "    .dataframe tbody tr th {\n",
       "        vertical-align: top;\n",
       "    }\n",
       "\n",
       "    .dataframe thead th {\n",
       "        text-align: right;\n",
       "    }\n",
       "</style>\n",
       "<table border=\"1\" class=\"dataframe\">\n",
       "  <thead>\n",
       "    <tr style=\"text-align: right;\">\n",
       "      <th></th>\n",
       "      <th>Date_reported</th>\n",
       "      <th>Country_code</th>\n",
       "      <th>Country</th>\n",
       "      <th>WHO_region</th>\n",
       "      <th>New_cases</th>\n",
       "      <th>Cumulative_cases</th>\n",
       "      <th>New_deaths</th>\n",
       "      <th>Cumulative_deaths</th>\n",
       "    </tr>\n",
       "  </thead>\n",
       "  <tbody>\n",
       "    <tr>\n",
       "      <th>0</th>\n",
       "      <td>2020-01-05</td>\n",
       "      <td>AF</td>\n",
       "      <td>Afghanistan</td>\n",
       "      <td>EMRO</td>\n",
       "      <td>0</td>\n",
       "      <td>0</td>\n",
       "      <td>0</td>\n",
       "      <td>0</td>\n",
       "    </tr>\n",
       "    <tr>\n",
       "      <th>1</th>\n",
       "      <td>2020-01-12</td>\n",
       "      <td>AF</td>\n",
       "      <td>Afghanistan</td>\n",
       "      <td>EMRO</td>\n",
       "      <td>0</td>\n",
       "      <td>0</td>\n",
       "      <td>0</td>\n",
       "      <td>0</td>\n",
       "    </tr>\n",
       "    <tr>\n",
       "      <th>2</th>\n",
       "      <td>2020-01-19</td>\n",
       "      <td>AF</td>\n",
       "      <td>Afghanistan</td>\n",
       "      <td>EMRO</td>\n",
       "      <td>0</td>\n",
       "      <td>0</td>\n",
       "      <td>0</td>\n",
       "      <td>0</td>\n",
       "    </tr>\n",
       "    <tr>\n",
       "      <th>3</th>\n",
       "      <td>2020-01-26</td>\n",
       "      <td>AF</td>\n",
       "      <td>Afghanistan</td>\n",
       "      <td>EMRO</td>\n",
       "      <td>0</td>\n",
       "      <td>0</td>\n",
       "      <td>0</td>\n",
       "      <td>0</td>\n",
       "    </tr>\n",
       "    <tr>\n",
       "      <th>4</th>\n",
       "      <td>2020-02-02</td>\n",
       "      <td>AF</td>\n",
       "      <td>Afghanistan</td>\n",
       "      <td>EMRO</td>\n",
       "      <td>0</td>\n",
       "      <td>0</td>\n",
       "      <td>0</td>\n",
       "      <td>0</td>\n",
       "    </tr>\n",
       "    <tr>\n",
       "      <th>...</th>\n",
       "      <td>...</td>\n",
       "      <td>...</td>\n",
       "      <td>...</td>\n",
       "      <td>...</td>\n",
       "      <td>...</td>\n",
       "      <td>...</td>\n",
       "      <td>...</td>\n",
       "      <td>...</td>\n",
       "    </tr>\n",
       "    <tr>\n",
       "      <th>50395</th>\n",
       "      <td>2023-12-10</td>\n",
       "      <td>ZW</td>\n",
       "      <td>Zimbabwe</td>\n",
       "      <td>AFRO</td>\n",
       "      <td>0</td>\n",
       "      <td>265975</td>\n",
       "      <td>0</td>\n",
       "      <td>5730</td>\n",
       "    </tr>\n",
       "    <tr>\n",
       "      <th>50396</th>\n",
       "      <td>2023-12-17</td>\n",
       "      <td>ZW</td>\n",
       "      <td>Zimbabwe</td>\n",
       "      <td>AFRO</td>\n",
       "      <td>50</td>\n",
       "      <td>266025</td>\n",
       "      <td>0</td>\n",
       "      <td>5730</td>\n",
       "    </tr>\n",
       "    <tr>\n",
       "      <th>50397</th>\n",
       "      <td>2023-12-24</td>\n",
       "      <td>ZW</td>\n",
       "      <td>Zimbabwe</td>\n",
       "      <td>AFRO</td>\n",
       "      <td>23</td>\n",
       "      <td>266048</td>\n",
       "      <td>1</td>\n",
       "      <td>5731</td>\n",
       "    </tr>\n",
       "    <tr>\n",
       "      <th>50398</th>\n",
       "      <td>2023-12-31</td>\n",
       "      <td>ZW</td>\n",
       "      <td>Zimbabwe</td>\n",
       "      <td>AFRO</td>\n",
       "      <td>23</td>\n",
       "      <td>266071</td>\n",
       "      <td>0</td>\n",
       "      <td>5731</td>\n",
       "    </tr>\n",
       "    <tr>\n",
       "      <th>50399</th>\n",
       "      <td>2024-01-07</td>\n",
       "      <td>ZW</td>\n",
       "      <td>Zimbabwe</td>\n",
       "      <td>AFRO</td>\n",
       "      <td>0</td>\n",
       "      <td>266071</td>\n",
       "      <td>0</td>\n",
       "      <td>5731</td>\n",
       "    </tr>\n",
       "  </tbody>\n",
       "</table>\n",
       "<p>50400 rows × 8 columns</p>\n",
       "</div>"
      ],
      "text/plain": [
       "      Date_reported Country_code      Country WHO_region  New_cases  \\\n",
       "0        2020-01-05           AF  Afghanistan       EMRO          0   \n",
       "1        2020-01-12           AF  Afghanistan       EMRO          0   \n",
       "2        2020-01-19           AF  Afghanistan       EMRO          0   \n",
       "3        2020-01-26           AF  Afghanistan       EMRO          0   \n",
       "4        2020-02-02           AF  Afghanistan       EMRO          0   \n",
       "...             ...          ...          ...        ...        ...   \n",
       "50395    2023-12-10           ZW     Zimbabwe       AFRO          0   \n",
       "50396    2023-12-17           ZW     Zimbabwe       AFRO         50   \n",
       "50397    2023-12-24           ZW     Zimbabwe       AFRO         23   \n",
       "50398    2023-12-31           ZW     Zimbabwe       AFRO         23   \n",
       "50399    2024-01-07           ZW     Zimbabwe       AFRO          0   \n",
       "\n",
       "       Cumulative_cases  New_deaths  Cumulative_deaths  \n",
       "0                     0           0                  0  \n",
       "1                     0           0                  0  \n",
       "2                     0           0                  0  \n",
       "3                     0           0                  0  \n",
       "4                     0           0                  0  \n",
       "...                 ...         ...                ...  \n",
       "50395            265975           0               5730  \n",
       "50396            266025           0               5730  \n",
       "50397            266048           1               5731  \n",
       "50398            266071           0               5731  \n",
       "50399            266071           0               5731  \n",
       "\n",
       "[50400 rows x 8 columns]"
      ]
     },
     "execution_count": 32,
     "metadata": {},
     "output_type": "execute_result"
    }
   ],
   "source": [
    "df=pd.read_csv('WHO-COVID-19-global-data.csv')\n",
    "df"
   ]
  },
  {
   "cell_type": "code",
   "execution_count": 33,
   "id": "5c51e688-fe2b-4c64-8154-546571707e69",
   "metadata": {
    "tags": []
   },
   "outputs": [],
   "source": [
    "# The column Country_code seems unnecessary in this use case because the column Country can be used in its place:\n",
    "df=df.drop('Country_code',axis=1)"
   ]
  },
  {
   "cell_type": "code",
   "execution_count": 34,
   "id": "1a6963d7-86ed-4b49-a78e-6a198cdc5ee8",
   "metadata": {
    "tags": []
   },
   "outputs": [
    {
     "name": "stdout",
     "output_type": "stream",
     "text": [
      "<class 'pandas.core.frame.DataFrame'>\n",
      "RangeIndex: 50400 entries, 0 to 50399\n",
      "Data columns (total 7 columns):\n",
      " #   Column             Non-Null Count  Dtype \n",
      "---  ------             --------------  ----- \n",
      " 0   Date_reported      50400 non-null  object\n",
      " 1   Country            49140 non-null  object\n",
      " 2   WHO_region         45360 non-null  object\n",
      " 3   New_cases          50400 non-null  int64 \n",
      " 4   Cumulative_cases   50400 non-null  int64 \n",
      " 5   New_deaths         50400 non-null  int64 \n",
      " 6   Cumulative_deaths  50400 non-null  int64 \n",
      "dtypes: int64(4), object(3)\n",
      "memory usage: 2.7+ MB\n"
     ]
    }
   ],
   "source": [
    "df.info()"
   ]
  },
  {
   "cell_type": "code",
   "execution_count": 35,
   "id": "503c9b9a-6fc6-4013-897e-4ec8e9c64ed3",
   "metadata": {
    "tags": []
   },
   "outputs": [],
   "source": [
    "# The columns Country and WHO_region have less rows than other columns. Some data is missing."
   ]
  },
  {
   "cell_type": "code",
   "execution_count": 36,
   "id": "35787d89-c6d4-44b3-9d1f-7fe4a67f3d8f",
   "metadata": {
    "tags": []
   },
   "outputs": [],
   "source": [
    "# The column Date_reported is currently stored as object data. Let's change it to a better format:\n",
    "df.Date_reported=pd.to_datetime(df.Date_reported)"
   ]
  },
  {
   "cell_type": "code",
   "execution_count": 37,
   "id": "04923b96-6b42-4a51-a0e0-c68aed64b3a5",
   "metadata": {
    "tags": []
   },
   "outputs": [
    {
     "data": {
      "text/plain": [
       "array(['Afghanistan', 'Albania', 'Algeria', 'American Samoa', 'Andorra',\n",
       "       'Angola', 'Anguilla', 'Antigua and Barbuda', 'Argentina',\n",
       "       'Armenia', 'Aruba', 'Australia', 'Austria', 'Azerbaijan',\n",
       "       'Bahamas', 'Bahrain', 'Bangladesh', 'Barbados', 'Belarus',\n",
       "       'Belgium', 'Belize', 'Benin', 'Bermuda', 'Bhutan',\n",
       "       'Bolivia (Plurinational State of)',\n",
       "       'Bonaire, Saint Eustatius and Saba', 'Bosnia and Herzegovina',\n",
       "       'Botswana', 'Brazil', 'British Virgin Islands',\n",
       "       'Brunei Darussalam', 'Bulgaria', 'Burkina Faso', 'Burundi',\n",
       "       'Cabo Verde', 'Cambodia', 'Cameroon', 'Canada', 'Cayman Islands',\n",
       "       'Central African Republic', 'Chad', nan, 'Chile', 'China',\n",
       "       'Colombia', 'Comoros', 'Congo', 'Cook Islands', 'Costa Rica',\n",
       "       \"Côte d'Ivoire\", 'Croatia', 'Cuba', 'Curaçao', 'Cyprus', 'Czechia',\n",
       "       \"Democratic People's Republic of Korea\",\n",
       "       'Democratic Republic of the Congo', 'Denmark', 'Djibouti',\n",
       "       'Dominica', 'Dominican Republic', 'Ecuador', 'Egypt',\n",
       "       'El Salvador', 'Equatorial Guinea', 'Eritrea', 'Estonia',\n",
       "       'Eswatini', 'Ethiopia', 'Falkland Islands (Malvinas)',\n",
       "       'Faroe Islands', 'Fiji', 'Finland', 'France', 'French Guiana',\n",
       "       'French Polynesia', 'Gabon', 'Gambia', 'Georgia', 'Germany',\n",
       "       'Ghana', 'Gibraltar', 'Greece', 'Greenland', 'Grenada',\n",
       "       'Guadeloupe', 'Guam', 'Guatemala', 'Guernsey', 'Guinea',\n",
       "       'Guinea-Bissau', 'Guyana', 'Haiti', 'Holy See', 'Honduras',\n",
       "       'Hungary', 'Iceland', 'India', 'Indonesia',\n",
       "       'Iran (Islamic Republic of)', 'Iraq', 'Ireland', 'Isle of Man',\n",
       "       'Israel', 'Italy', 'Jamaica', 'Japan', 'Jersey', 'Jordan',\n",
       "       'Kazakhstan', 'Kenya', 'Kiribati',\n",
       "       'Kosovo (in accordance with UN Security Council resolution 1244 (1999))',\n",
       "       'Kuwait', 'Kyrgyzstan', \"Lao People's Democratic Republic\",\n",
       "       'Latvia', 'Lebanon', 'Lesotho', 'Liberia', 'Libya',\n",
       "       'Liechtenstein', 'Lithuania', 'Luxembourg', 'Madagascar', 'Malawi',\n",
       "       'Malaysia', 'Maldives', 'Mali', 'Malta', 'Marshall Islands',\n",
       "       'Martinique', 'Mauritania', 'Mauritius', 'Mayotte', 'Mexico',\n",
       "       'Micronesia (Federated States of)', 'Monaco', 'Mongolia',\n",
       "       'Montenegro', 'Montserrat', 'Morocco', 'Mozambique', 'Myanmar',\n",
       "       'Namibia', 'Nauru', 'Nepal', 'Netherlands (Kingdom of the)',\n",
       "       'New Caledonia', 'New Zealand', 'Nicaragua', 'Niger', 'Nigeria',\n",
       "       'Niue', 'North Macedonia', 'Northern Mariana Islands', 'Norway',\n",
       "       'occupied Palestinian territory, including east Jerusalem', 'Oman',\n",
       "       'Pakistan', 'Palau', 'Panama', 'Papua New Guinea', 'Paraguay',\n",
       "       'Peru', 'Philippines', 'Pitcairn', 'Poland', 'Portugal',\n",
       "       'Puerto Rico', 'Qatar', 'Republic of Korea', 'Republic of Moldova',\n",
       "       'Réunion', 'Romania', 'Russian Federation', 'Rwanda',\n",
       "       'Saint Barthélemy', 'Saint Helena', 'Saint Kitts and Nevis',\n",
       "       'Saint Lucia', 'Saint Martin (French part)',\n",
       "       'Saint Pierre and Miquelon', 'Saint Vincent and the Grenadines',\n",
       "       'Samoa', 'San Marino', 'Sao Tome and Principe', 'Saudi Arabia',\n",
       "       'Senegal', 'Serbia', 'Seychelles', 'Sierra Leone', 'Singapore',\n",
       "       'Sint Maarten (Dutch part)', 'Slovakia', 'Slovenia',\n",
       "       'Solomon Islands', 'Somalia', 'South Africa', 'South Sudan',\n",
       "       'Spain', 'Sri Lanka', 'Sudan', 'Suriname', 'Sweden', 'Switzerland',\n",
       "       'Syrian Arab Republic', 'Tajikistan', 'Thailand',\n",
       "       'United Kingdom of Great Britain and Northern Ireland',\n",
       "       'Timor-Leste', 'Togo', 'Tokelau', 'Tonga', 'Trinidad and Tobago',\n",
       "       'Tunisia', 'Türkiye', 'Turkmenistan', 'Turks and Caicos Islands',\n",
       "       'Tuvalu', 'Uganda', 'Ukraine', 'United Arab Emirates',\n",
       "       'United Republic of Tanzania', 'United States of America',\n",
       "       'United States Virgin Islands', 'Uruguay', 'Uzbekistan', 'Vanuatu',\n",
       "       'Venezuela (Bolivarian Republic of)', 'Viet Nam',\n",
       "       'Wallis and Futuna', 'Yemen', 'Zambia', 'Zimbabwe'], dtype=object)"
      ]
     },
     "execution_count": 37,
     "metadata": {},
     "output_type": "execute_result"
    }
   ],
   "source": [
    "# Let's view all country names in the data:\n",
    "df.Country.unique()"
   ]
  },
  {
   "cell_type": "code",
   "execution_count": 38,
   "id": "87723bc9-2262-4505-9888-d54d8cb84851",
   "metadata": {
    "tags": []
   },
   "outputs": [],
   "source": [
    "# Because official country names have been used, some names can be shortened for readability.\n",
    "df['Country'].replace({'Bolivia (Plurinational State of)': 'Bolivia',\n",
    "                       'Brunei Darussalam': 'Brunei',\n",
    "                       'Democratic People\\'s Republic of Korea': 'North Korea',\n",
    "                       'Democratic Republic of the Congo': 'DR Congo',\n",
    "                       'Falkland Islands (Malvinas)': 'Falkland Islands',\n",
    "                       'Iran (Islamic Republic of)': 'Iran',\n",
    "                       'Kosovo (in accordance with UN Security Council resolution 1244 (1999))': 'Kosovo',\n",
    "                       'Lao People\\'s Democratic Republic': 'Laos',\n",
    "                       'Micronesia (Federated States of)': 'Micronesia',\n",
    "                       'Netherlands (Kingdom of the)': 'Netherlands',\n",
    "                       'occupied Palestinian territory, including east Jerusalem': 'Palestine',\n",
    "                       'Republic of Korea': 'South Korea',\n",
    "                       'Republic of Moldova': 'Moldova',\n",
    "                       'Russian Federation': 'Russia',\n",
    "                       'Syrian Arab Republic': 'Syria',\n",
    "                       'Türkiye': 'Turkey',\n",
    "                       'United Kingdom of Great Britain and Northern Ireland': 'UK',\n",
    "                       'United Republic of Tanzania': 'Tanzania',\n",
    "                       'United States of America': 'USA',\n",
    "                       'United States Virgin Islands': 'U.S. Virgin Islands',\n",
    "                       'Venezuela (Bolivarian Republic of)': 'Venezuela'\n",
    "                      },\n",
    "                       inplace=True)"
   ]
  },
  {
   "cell_type": "code",
   "execution_count": 39,
   "id": "91ad1463-6958-4115-8cf9-9bc07453b260",
   "metadata": {
    "tags": []
   },
   "outputs": [],
   "source": [
    "# Let's find the largest amount of cumulative cases for each country:\n",
    "cumulative=df.groupby('Country')['Cumulative_cases'].max().sort_values(ascending=False).reset_index()"
   ]
  },
  {
   "cell_type": "code",
   "execution_count": 40,
   "id": "1edf7237-843d-4ecc-b2e9-5d94282d64a5",
   "metadata": {
    "tags": []
   },
   "outputs": [
    {
     "data": {
      "text/html": [
       "<div>\n",
       "<style scoped>\n",
       "    .dataframe tbody tr th:only-of-type {\n",
       "        vertical-align: middle;\n",
       "    }\n",
       "\n",
       "    .dataframe tbody tr th {\n",
       "        vertical-align: top;\n",
       "    }\n",
       "\n",
       "    .dataframe thead th {\n",
       "        text-align: right;\n",
       "    }\n",
       "</style>\n",
       "<table border=\"1\" class=\"dataframe\">\n",
       "  <thead>\n",
       "    <tr style=\"text-align: right;\">\n",
       "      <th></th>\n",
       "      <th>Country</th>\n",
       "      <th>Cumulative_cases</th>\n",
       "    </tr>\n",
       "  </thead>\n",
       "  <tbody>\n",
       "    <tr>\n",
       "      <th>0</th>\n",
       "      <td>USA</td>\n",
       "      <td>103436829</td>\n",
       "    </tr>\n",
       "    <tr>\n",
       "      <th>1</th>\n",
       "      <td>China</td>\n",
       "      <td>99323756</td>\n",
       "    </tr>\n",
       "    <tr>\n",
       "      <th>2</th>\n",
       "      <td>India</td>\n",
       "      <td>45013908</td>\n",
       "    </tr>\n",
       "    <tr>\n",
       "      <th>3</th>\n",
       "      <td>France</td>\n",
       "      <td>38997490</td>\n",
       "    </tr>\n",
       "    <tr>\n",
       "      <th>4</th>\n",
       "      <td>Germany</td>\n",
       "      <td>38437756</td>\n",
       "    </tr>\n",
       "    <tr>\n",
       "      <th>5</th>\n",
       "      <td>Brazil</td>\n",
       "      <td>37519960</td>\n",
       "    </tr>\n",
       "    <tr>\n",
       "      <th>6</th>\n",
       "      <td>South Korea</td>\n",
       "      <td>34571873</td>\n",
       "    </tr>\n",
       "    <tr>\n",
       "      <th>7</th>\n",
       "      <td>Japan</td>\n",
       "      <td>33803572</td>\n",
       "    </tr>\n",
       "    <tr>\n",
       "      <th>8</th>\n",
       "      <td>Italy</td>\n",
       "      <td>26621847</td>\n",
       "    </tr>\n",
       "    <tr>\n",
       "      <th>9</th>\n",
       "      <td>UK</td>\n",
       "      <td>24863166</td>\n",
       "    </tr>\n",
       "  </tbody>\n",
       "</table>\n",
       "</div>"
      ],
      "text/plain": [
       "       Country  Cumulative_cases\n",
       "0          USA         103436829\n",
       "1        China          99323756\n",
       "2        India          45013908\n",
       "3       France          38997490\n",
       "4      Germany          38437756\n",
       "5       Brazil          37519960\n",
       "6  South Korea          34571873\n",
       "7        Japan          33803572\n",
       "8        Italy          26621847\n",
       "9           UK          24863166"
      ]
     },
     "execution_count": 40,
     "metadata": {},
     "output_type": "execute_result"
    }
   ],
   "source": [
    "# Ten countries with the highest amount of cumulative cases:\n",
    "cumulative.head(10)"
   ]
  },
  {
   "cell_type": "code",
   "execution_count": 41,
   "id": "8d17907e-4c75-4469-8d0d-b1de62a14fc2",
   "metadata": {
    "tags": []
   },
   "outputs": [
    {
     "data": {
      "text/html": [
       "<div>\n",
       "<style scoped>\n",
       "    .dataframe tbody tr th:only-of-type {\n",
       "        vertical-align: middle;\n",
       "    }\n",
       "\n",
       "    .dataframe tbody tr th {\n",
       "        vertical-align: top;\n",
       "    }\n",
       "\n",
       "    .dataframe thead th {\n",
       "        text-align: right;\n",
       "    }\n",
       "</style>\n",
       "<table border=\"1\" class=\"dataframe\">\n",
       "  <thead>\n",
       "    <tr style=\"text-align: right;\">\n",
       "      <th></th>\n",
       "      <th>Country</th>\n",
       "      <th>Cumulative_cases</th>\n",
       "    </tr>\n",
       "  </thead>\n",
       "  <tbody>\n",
       "    <tr>\n",
       "      <th>229</th>\n",
       "      <td>Tokelau</td>\n",
       "      <td>80</td>\n",
       "    </tr>\n",
       "    <tr>\n",
       "      <th>230</th>\n",
       "      <td>Holy See</td>\n",
       "      <td>26</td>\n",
       "    </tr>\n",
       "    <tr>\n",
       "      <th>231</th>\n",
       "      <td>Pitcairn</td>\n",
       "      <td>4</td>\n",
       "    </tr>\n",
       "    <tr>\n",
       "      <th>232</th>\n",
       "      <td>Turkmenistan</td>\n",
       "      <td>0</td>\n",
       "    </tr>\n",
       "    <tr>\n",
       "      <th>233</th>\n",
       "      <td>North Korea</td>\n",
       "      <td>0</td>\n",
       "    </tr>\n",
       "  </tbody>\n",
       "</table>\n",
       "</div>"
      ],
      "text/plain": [
       "          Country  Cumulative_cases\n",
       "229       Tokelau                80\n",
       "230      Holy See                26\n",
       "231      Pitcairn                 4\n",
       "232  Turkmenistan                 0\n",
       "233   North Korea                 0"
      ]
     },
     "execution_count": 41,
     "metadata": {},
     "output_type": "execute_result"
    }
   ],
   "source": [
    "# Countries with the least cumulative cases:\n",
    "cumulative.tail()"
   ]
  },
  {
   "cell_type": "code",
   "execution_count": 42,
   "id": "64d56c61-aa3d-456e-a97e-97f724f86cbd",
   "metadata": {
    "tags": []
   },
   "outputs": [
    {
     "data": {
      "text/html": [
       "<div>\n",
       "<style scoped>\n",
       "    .dataframe tbody tr th:only-of-type {\n",
       "        vertical-align: middle;\n",
       "    }\n",
       "\n",
       "    .dataframe tbody tr th {\n",
       "        vertical-align: top;\n",
       "    }\n",
       "\n",
       "    .dataframe thead th {\n",
       "        text-align: right;\n",
       "    }\n",
       "</style>\n",
       "<table border=\"1\" class=\"dataframe\">\n",
       "  <thead>\n",
       "    <tr style=\"text-align: right;\">\n",
       "      <th></th>\n",
       "      <th>Country</th>\n",
       "      <th>Cumulative_cases</th>\n",
       "    </tr>\n",
       "  </thead>\n",
       "  <tbody>\n",
       "    <tr>\n",
       "      <th>227</th>\n",
       "      <td>Montserrat</td>\n",
       "      <td>1403</td>\n",
       "    </tr>\n",
       "    <tr>\n",
       "      <th>228</th>\n",
       "      <td>Niue</td>\n",
       "      <td>993</td>\n",
       "    </tr>\n",
       "    <tr>\n",
       "      <th>229</th>\n",
       "      <td>Tokelau</td>\n",
       "      <td>80</td>\n",
       "    </tr>\n",
       "    <tr>\n",
       "      <th>230</th>\n",
       "      <td>Holy See</td>\n",
       "      <td>26</td>\n",
       "    </tr>\n",
       "    <tr>\n",
       "      <th>231</th>\n",
       "      <td>Pitcairn</td>\n",
       "      <td>4</td>\n",
       "    </tr>\n",
       "  </tbody>\n",
       "</table>\n",
       "</div>"
      ],
      "text/plain": [
       "        Country  Cumulative_cases\n",
       "227  Montserrat              1403\n",
       "228        Niue               993\n",
       "229     Tokelau                80\n",
       "230    Holy See                26\n",
       "231    Pitcairn                 4"
      ]
     },
     "execution_count": 42,
     "metadata": {},
     "output_type": "execute_result"
    }
   ],
   "source": [
    "# The zeros could be a result of reporting errors or unwillingness to cooperate with organizations.\n",
    "# Let's view the countries with least cases that have reported at least some cases:\n",
    "cumulative[cumulative.Cumulative_cases>0].tail()"
   ]
  },
  {
   "cell_type": "code",
   "execution_count": 43,
   "id": "7070a2e5-47c8-446b-b99c-9ce88e3b30a0",
   "metadata": {
    "tags": []
   },
   "outputs": [
    {
     "data": {
      "image/png": "[encoded data removed]",
      "text/plain": [
       "<Figure size 1000x600 with 1 Axes>"
      ]
     },
     "metadata": {},
     "output_type": "display_data"
    }
   ],
   "source": [
    "# Let's plot the countries with most cumulative cases:\n",
    "import matplotlib.pyplot as plt\n",
    "cumulative_topten=cumulative.head(10)\n",
    "\n",
    "plt.figure(figsize=(10,6))\n",
    "plt.bar(cumulative_topten['Country'], cumulative_topten['Cumulative_cases'])\n",
    "plt.xlabel(None)\n",
    "plt.ylabel('Cumulative cases (in hundreds of millions)')\n",
    "plt.title('Top ten countries by cumulative cases')\n",
    "plt.xticks(rotation=45, ha='right')\n",
    "plt.tight_layout()"
   ]
  },
  {
   "cell_type": "code",
   "execution_count": 44,
   "id": "d0476c94-f215-4da3-8263-27a36011f849",
   "metadata": {
    "tags": []
   },
   "outputs": [],
   "source": [
    "# Next, we'll do the same with cumulative deaths:\n",
    "deaths=df.groupby('Country')['Cumulative_deaths'].max().sort_values(ascending=False).reset_index()"
   ]
  },
  {
   "cell_type": "code",
   "execution_count": 45,
   "id": "64c54759-b556-4462-91f8-0f61ec593f1b",
   "metadata": {
    "tags": []
   },
   "outputs": [
    {
     "data": {
      "text/html": [
       "<div>\n",
       "<style scoped>\n",
       "    .dataframe tbody tr th:only-of-type {\n",
       "        vertical-align: middle;\n",
       "    }\n",
       "\n",
       "    .dataframe tbody tr th {\n",
       "        vertical-align: top;\n",
       "    }\n",
       "\n",
       "    .dataframe thead th {\n",
       "        text-align: right;\n",
       "    }\n",
       "</style>\n",
       "<table border=\"1\" class=\"dataframe\">\n",
       "  <thead>\n",
       "    <tr style=\"text-align: right;\">\n",
       "      <th></th>\n",
       "      <th>Country</th>\n",
       "      <th>Cumulative_deaths</th>\n",
       "    </tr>\n",
       "  </thead>\n",
       "  <tbody>\n",
       "    <tr>\n",
       "      <th>0</th>\n",
       "      <td>USA</td>\n",
       "      <td>1161235</td>\n",
       "    </tr>\n",
       "    <tr>\n",
       "      <th>1</th>\n",
       "      <td>Brazil</td>\n",
       "      <td>702116</td>\n",
       "    </tr>\n",
       "    <tr>\n",
       "      <th>2</th>\n",
       "      <td>India</td>\n",
       "      <td>533364</td>\n",
       "    </tr>\n",
       "    <tr>\n",
       "      <th>3</th>\n",
       "      <td>Russia</td>\n",
       "      <td>401153</td>\n",
       "    </tr>\n",
       "    <tr>\n",
       "      <th>4</th>\n",
       "      <td>Mexico</td>\n",
       "      <td>334958</td>\n",
       "    </tr>\n",
       "  </tbody>\n",
       "</table>\n",
       "</div>"
      ],
      "text/plain": [
       "  Country  Cumulative_deaths\n",
       "0     USA            1161235\n",
       "1  Brazil             702116\n",
       "2   India             533364\n",
       "3  Russia             401153\n",
       "4  Mexico             334958"
      ]
     },
     "execution_count": 45,
     "metadata": {},
     "output_type": "execute_result"
    }
   ],
   "source": [
    "deaths.head()"
   ]
  },
  {
   "cell_type": "code",
   "execution_count": 46,
   "id": "bde2d6ff-6477-4881-bd46-1a29d819d239",
   "metadata": {
    "tags": []
   },
   "outputs": [],
   "source": [
    "# With only the top five countries showing, it can already be seen that some countries have relatively more deaths."
   ]
  },
  {
   "cell_type": "code",
   "execution_count": 47,
   "id": "ae07e52c-427a-4d63-9f56-4baa87ab3990",
   "metadata": {
    "tags": []
   },
   "outputs": [
    {
     "data": {
      "text/html": [
       "<div>\n",
       "<style scoped>\n",
       "    .dataframe tbody tr th:only-of-type {\n",
       "        vertical-align: middle;\n",
       "    }\n",
       "\n",
       "    .dataframe tbody tr th {\n",
       "        vertical-align: top;\n",
       "    }\n",
       "\n",
       "    .dataframe thead th {\n",
       "        text-align: right;\n",
       "    }\n",
       "</style>\n",
       "<table border=\"1\" class=\"dataframe\">\n",
       "  <thead>\n",
       "    <tr style=\"text-align: right;\">\n",
       "      <th></th>\n",
       "      <th>Country</th>\n",
       "      <th>Cumulative_deaths</th>\n",
       "    </tr>\n",
       "  </thead>\n",
       "  <tbody>\n",
       "    <tr>\n",
       "      <th>229</th>\n",
       "      <td>Saint Helena</td>\n",
       "      <td>0</td>\n",
       "    </tr>\n",
       "    <tr>\n",
       "      <th>230</th>\n",
       "      <td>Turkmenistan</td>\n",
       "      <td>0</td>\n",
       "    </tr>\n",
       "    <tr>\n",
       "      <th>231</th>\n",
       "      <td>North Korea</td>\n",
       "      <td>0</td>\n",
       "    </tr>\n",
       "    <tr>\n",
       "      <th>232</th>\n",
       "      <td>Holy See</td>\n",
       "      <td>0</td>\n",
       "    </tr>\n",
       "    <tr>\n",
       "      <th>233</th>\n",
       "      <td>Tokelau</td>\n",
       "      <td>0</td>\n",
       "    </tr>\n",
       "  </tbody>\n",
       "</table>\n",
       "</div>"
      ],
      "text/plain": [
       "          Country  Cumulative_deaths\n",
       "229  Saint Helena                  0\n",
       "230  Turkmenistan                  0\n",
       "231   North Korea                  0\n",
       "232      Holy See                  0\n",
       "233       Tokelau                  0"
      ]
     },
     "execution_count": 47,
     "metadata": {},
     "output_type": "execute_result"
    }
   ],
   "source": [
    "deaths.tail()"
   ]
  },
  {
   "cell_type": "code",
   "execution_count": 48,
   "id": "5f2d799f-e9a2-4e62-81cd-d2aeee8154f1",
   "metadata": {
    "tags": []
   },
   "outputs": [
    {
     "data": {
      "text/html": [
       "<div>\n",
       "<style scoped>\n",
       "    .dataframe tbody tr th:only-of-type {\n",
       "        vertical-align: middle;\n",
       "    }\n",
       "\n",
       "    .dataframe tbody tr th {\n",
       "        vertical-align: top;\n",
       "    }\n",
       "\n",
       "    .dataframe thead th {\n",
       "        text-align: right;\n",
       "    }\n",
       "</style>\n",
       "<table border=\"1\" class=\"dataframe\">\n",
       "  <thead>\n",
       "    <tr style=\"text-align: right;\">\n",
       "      <th></th>\n",
       "      <th>Country</th>\n",
       "      <th>Cumulative_deaths</th>\n",
       "    </tr>\n",
       "  </thead>\n",
       "  <tbody>\n",
       "    <tr>\n",
       "      <th>221</th>\n",
       "      <td>Saint Barthélemy</td>\n",
       "      <td>5</td>\n",
       "    </tr>\n",
       "    <tr>\n",
       "      <th>222</th>\n",
       "      <td>Saint Pierre and Miquelon</td>\n",
       "      <td>2</td>\n",
       "    </tr>\n",
       "    <tr>\n",
       "      <th>223</th>\n",
       "      <td>Cook Islands</td>\n",
       "      <td>2</td>\n",
       "    </tr>\n",
       "    <tr>\n",
       "      <th>224</th>\n",
       "      <td>Nauru</td>\n",
       "      <td>1</td>\n",
       "    </tr>\n",
       "    <tr>\n",
       "      <th>225</th>\n",
       "      <td>Tuvalu</td>\n",
       "      <td>1</td>\n",
       "    </tr>\n",
       "  </tbody>\n",
       "</table>\n",
       "</div>"
      ],
      "text/plain": [
       "                       Country  Cumulative_deaths\n",
       "221           Saint Barthélemy                  5\n",
       "222  Saint Pierre and Miquelon                  2\n",
       "223               Cook Islands                  2\n",
       "224                      Nauru                  1\n",
       "225                     Tuvalu                  1"
      ]
     },
     "execution_count": 48,
     "metadata": {},
     "output_type": "execute_result"
    }
   ],
   "source": [
    "# Because the countries above have had very little cases overall, it is possible that there are no Covid deaths.\n",
    "# For the sake of curiousity, let's view the countries that have had at least some deaths:\n",
    "deaths[deaths.Cumulative_deaths>0].tail()"
   ]
  },
  {
   "cell_type": "code",
   "execution_count": 49,
   "id": "fdeef1af-10d6-43b0-8dee-03066b3f06a3",
   "metadata": {
    "tags": []
   },
   "outputs": [
    {
     "data": {
      "image/png": "[encoded data removed]",
      "text/plain": [
       "<Figure size 1000x600 with 1 Axes>"
      ]
     },
     "metadata": {},
     "output_type": "display_data"
    }
   ],
   "source": [
    "# Let's plot the top ten countries again:\n",
    "import matplotlib.pyplot as plt\n",
    "deaths_topten=deaths.head(10)\n",
    "\n",
    "plt.figure(figsize=(10,6))\n",
    "plt.bar(deaths_topten['Country'], deaths_topten['Cumulative_deaths'])\n",
    "plt.xlabel(None)\n",
    "plt.ylabel('Cumulative deaths (in millions)')\n",
    "plt.title('Top ten countries by cumulative deaths')\n",
    "plt.xticks(rotation=45, ha='right')\n",
    "plt.tight_layout()"
   ]
  },
  {
   "cell_type": "code",
   "execution_count": 50,
   "id": "3b1255af-bcc4-4b0b-b5b4-064f6d88e9ff",
   "metadata": {
    "tags": []
   },
   "outputs": [],
   "source": [
    "# There are notable differences in the top ten countries by cases and the top ten countries by deaths.\n",
    "# For example, China is very close to the USA in cumulative cases, but it is not even listed in the top ten countries by deaths.\n",
    "# Data collection and reporting methods may vary, and this does not directly imply that this is a result of medical solutions etc."
   ]
  },
  {
   "cell_type": "code",
   "execution_count": 51,
   "id": "86efd09f-dc0f-4e71-935a-fd11c71763b1",
   "metadata": {
    "tags": []
   },
   "outputs": [],
   "source": [
    "# Let's create a death percentage column that shows how many deaths have been reported compared to reported cases:\n",
    "df['Death_percentage']=df.Cumulative_deaths/df.Cumulative_cases*100"
   ]
  },
  {
   "cell_type": "code",
   "execution_count": 52,
   "id": "b6c341f5-08b4-4b4c-932b-b7fc3844edbc",
   "metadata": {
    "tags": []
   },
   "outputs": [],
   "source": [
    "# In order to be as accurate as possible, death percentages should be counted based on the latest reports.\n",
    "# Not every country has last reported on the same date, which means that the date cannot be manually chosen.\n",
    "df_latest=df.sort_values(by='Date_reported', ascending=False)\n",
    "df_latest=df_latest.drop_duplicates(subset='Country', keep='first')"
   ]
  },
  {
   "cell_type": "code",
   "execution_count": 53,
   "id": "f1544eb1-2273-438d-bcae-df99e8e7a530",
   "metadata": {
    "tags": []
   },
   "outputs": [],
   "source": [
    "# Now the dataframe df_latest contains only the latest data for each country."
   ]
  },
  {
   "cell_type": "code",
   "execution_count": 54,
   "id": "75b65692-67be-4bf9-a27d-61498c32b7a2",
   "metadata": {
    "tags": []
   },
   "outputs": [
    {
     "data": {
      "text/html": [
       "<div>\n",
       "<style scoped>\n",
       "    .dataframe tbody tr th:only-of-type {\n",
       "        vertical-align: middle;\n",
       "    }\n",
       "\n",
       "    .dataframe tbody tr th {\n",
       "        vertical-align: top;\n",
       "    }\n",
       "\n",
       "    .dataframe thead th {\n",
       "        text-align: right;\n",
       "    }\n",
       "</style>\n",
       "<table border=\"1\" class=\"dataframe\">\n",
       "  <thead>\n",
       "    <tr style=\"text-align: right;\">\n",
       "      <th></th>\n",
       "      <th>Date_reported</th>\n",
       "      <th>Country</th>\n",
       "      <th>WHO_region</th>\n",
       "      <th>New_cases</th>\n",
       "      <th>Cumulative_cases</th>\n",
       "      <th>New_deaths</th>\n",
       "      <th>Cumulative_deaths</th>\n",
       "      <th>Death_percentage</th>\n",
       "    </tr>\n",
       "  </thead>\n",
       "  <tbody>\n",
       "    <tr>\n",
       "      <th>49979</th>\n",
       "      <td>2024-01-07</td>\n",
       "      <td>Yemen</td>\n",
       "      <td>EMRO</td>\n",
       "      <td>0</td>\n",
       "      <td>11945</td>\n",
       "      <td>0</td>\n",
       "      <td>2159</td>\n",
       "      <td>18.074508</td>\n",
       "    </tr>\n",
       "    <tr>\n",
       "      <th>43679</th>\n",
       "      <td>2024-01-07</td>\n",
       "      <td>Sudan</td>\n",
       "      <td>EMRO</td>\n",
       "      <td>0</td>\n",
       "      <td>63993</td>\n",
       "      <td>0</td>\n",
       "      <td>5046</td>\n",
       "      <td>7.885237</td>\n",
       "    </tr>\n",
       "    <tr>\n",
       "      <th>44519</th>\n",
       "      <td>2024-01-07</td>\n",
       "      <td>Syria</td>\n",
       "      <td>EMRO</td>\n",
       "      <td>0</td>\n",
       "      <td>57423</td>\n",
       "      <td>0</td>\n",
       "      <td>3163</td>\n",
       "      <td>5.508246</td>\n",
       "    </tr>\n",
       "    <tr>\n",
       "      <th>42629</th>\n",
       "      <td>2024-01-07</td>\n",
       "      <td>Somalia</td>\n",
       "      <td>EMRO</td>\n",
       "      <td>0</td>\n",
       "      <td>27334</td>\n",
       "      <td>0</td>\n",
       "      <td>1361</td>\n",
       "      <td>4.979147</td>\n",
       "    </tr>\n",
       "    <tr>\n",
       "      <th>35699</th>\n",
       "      <td>2024-01-07</td>\n",
       "      <td>Peru</td>\n",
       "      <td>AMRO</td>\n",
       "      <td>0</td>\n",
       "      <td>4536733</td>\n",
       "      <td>0</td>\n",
       "      <td>221583</td>\n",
       "      <td>4.884198</td>\n",
       "    </tr>\n",
       "  </tbody>\n",
       "</table>\n",
       "</div>"
      ],
      "text/plain": [
       "      Date_reported  Country WHO_region  New_cases  Cumulative_cases  \\\n",
       "49979    2024-01-07    Yemen       EMRO          0             11945   \n",
       "43679    2024-01-07    Sudan       EMRO          0             63993   \n",
       "44519    2024-01-07    Syria       EMRO          0             57423   \n",
       "42629    2024-01-07  Somalia       EMRO          0             27334   \n",
       "35699    2024-01-07     Peru       AMRO          0           4536733   \n",
       "\n",
       "       New_deaths  Cumulative_deaths  Death_percentage  \n",
       "49979           0               2159         18.074508  \n",
       "43679           0               5046          7.885237  \n",
       "44519           0               3163          5.508246  \n",
       "42629           0               1361          4.979147  \n",
       "35699           0             221583          4.884198  "
      ]
     },
     "execution_count": 54,
     "metadata": {},
     "output_type": "execute_result"
    }
   ],
   "source": [
    "df_latest=df_latest.sort_values(by='Death_percentage',ascending=False)\n",
    "df_latest.head()"
   ]
  },
  {
   "cell_type": "code",
   "execution_count": 55,
   "id": "dd1270bf-dc74-49d3-bb9e-0a3213f01123",
   "metadata": {},
   "outputs": [
    {
     "data": {
      "image/png": "[encoded data removed]",
      "text/plain": [
       "<Figure size 1000x600 with 1 Axes>"
      ]
     },
     "metadata": {},
     "output_type": "display_data"
    }
   ],
   "source": [
    "# Let's plot the top ten countries by death percentage:\n",
    "\n",
    "latest_topten=df_latest.head(10)\n",
    "plt.figure(figsize=(10, 6))\n",
    "plt.bar(latest_topten['Country'], latest_topten['Death_percentage'])\n",
    "plt.xlabel(None)\n",
    "plt.ylabel('Death Percentage (%)')\n",
    "plt.title('Top ten countries by latest death percentage')\n",
    "plt.xticks(rotation=45, ha='right')\n",
    "plt.tight_layout()"
   ]
  },
  {
   "cell_type": "code",
   "execution_count": 56,
   "id": "fbdb8b29",
   "metadata": {},
   "outputs": [],
   "source": [
    "# Perhaps the most obvious takeaway in this graph is that \"uncertain\" countries have more deaths per case."
   ]
  }
 ],
 "metadata": {
  "kernelspec": {
   "display_name": "Python 3 (ipykernel)",
   "language": "python",
   "name": "python3"
  },
  "language_info": {
   "codemirror_mode": {
    "name": "ipython",
    "version": 3
   },
   "file_extension": ".py",
   "mimetype": "text/x-python",
   "name": "python",
   "nbconvert_exporter": "python",
   "pygments_lexer": "ipython3",
   "version": "3.11.5"
  }
 },
 "nbformat": 4,
 "nbformat_minor": 5
}
